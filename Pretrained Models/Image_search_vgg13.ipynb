{
 "cells": [
  {
   "cell_type": "code",
   "execution_count": 1,
   "metadata": {
    "id": "_1HP8FiaG07q"
   },
   "outputs": [],
   "source": [
    "import torch\n",
    "from torch import nn\n",
    "from torch.nn import functional as F\n",
    "import matplotlib.pyplot as plt\n",
    "from torchvision import models, transforms, datasets\n",
    "from PIL import Image\n"
   ]
  },
  {
   "cell_type": "code",
   "execution_count": 2,
   "metadata": {
    "id": "x9D1NwohIM2W"
   },
   "outputs": [],
   "source": [
    "DEVICE = 'cuda' if torch.cuda.is_available() else 'cpu'"
   ]
  },
  {
   "cell_type": "code",
   "execution_count": 3,
   "metadata": {},
   "outputs": [
    {
     "name": "stdout",
     "output_type": "stream",
     "text": [
      "cuda\n"
     ]
    }
   ],
   "source": [
    "print(DEVICE)"
   ]
  },
  {
   "cell_type": "markdown",
   "metadata": {
    "id": "7CYgFQffbP6_"
   },
   "source": []
  },
  {
   "cell_type": "code",
   "execution_count": 4,
   "metadata": {
    "colab": {
     "base_uri": "https://localhost:8080/",
     "height": 314
    },
    "id": "dEvphGRVIM2X",
    "outputId": "e839c1e7-3ccb-4206-bf37-ac7a72eaab16"
   },
   "outputs": [],
   "source": [
    "\n",
    "class ImageFolderWithPaths(datasets.ImageFolder):\n",
    "\n",
    "    # override the __getitem__ method. this is the method that dataloader calls\n",
    "    def __getitem__(self, index):\n",
    "        # this is what ImageFolder normally returns \n",
    "        original_tuple = super(ImageFolderWithPaths, self).__getitem__(index)\n",
    "        # the image file path\n",
    "        path = self.imgs[index][0]\n",
    "        # make a new tuple that includes original and the path\n",
    "        tuple_with_path = (original_tuple + (path,))\n",
    "        return tuple_with_path\n",
    "\n",
    "\n",
    "#print('00:\\n')\n",
    "#Image.open('train/train/00/00b32bd5ba9cdd7c2f11e3975b3e54fa.jpg')"
   ]
  },
  {
   "cell_type": "code",
   "execution_count": 5,
   "metadata": {
    "colab": {
     "base_uri": "https://localhost:8080/"
    },
    "id": "2wltRf7OIM2Y",
    "outputId": "205605e5-8886-44e7-ca88-ad21c880521c"
   },
   "outputs": [],
   "source": [
    "#preprocess images\n",
    "transforms_ = transforms.Compose([\n",
    "    transforms.Resize(size=[224, 224], interpolation=2),\n",
    "    transforms.ToTensor(),\n",
    "    transforms.Normalize(mean=[0.485, 0.456, 0.406],\n",
    "                        std=[0.229, 0.224, 0.225])\n",
    "])\n",
    "\n",
    "dataset = ImageFolderWithPaths('train/train/', transforms_) \n",
    "\n",
    "#define dataloader\n",
    "BATCH = 1\n",
    "dataloader = torch.utils.data.DataLoader(dataset, batch_size=BATCH)"
   ]
  },
  {
   "cell_type": "code",
   "execution_count": 6,
   "metadata": {},
   "outputs": [],
   "source": [
    "import torchvision.models as models\n",
    "\n",
    "pretrained_net = models.vgg13_bn(pretrained=True)\n"
   ]
  },
  {
   "cell_type": "code",
   "execution_count": 7,
   "metadata": {
    "id": "wwDwPcs1JdP9"
   },
   "outputs": [],
   "source": [
    "\n",
    "\n",
    "\n",
    "def pooling_output(x):\n",
    "    #write your code here\n",
    "  for layer_name, layer in pretrained_net._modules.items():\n",
    "    #layer_name = layer_name.cuda()\n",
    "    layer = layer.cuda()\n",
    "    x = layer(x)\n",
    "    if layer_name == 'avgpool':\n",
    "        break\n",
    "    #print(x.shape)\n",
    "  return x.view(BATCH,-1)\n"
   ]
  },
  {
   "cell_type": "code",
   "execution_count": null,
   "metadata": {},
   "outputs": [],
   "source": []
  },
  {
   "cell_type": "code",
   "execution_count": null,
   "metadata": {
    "colab": {
     "base_uri": "https://localhost:8080/"
    },
    "id": "_vEZ7hqxKM-F",
    "outputId": "33dc178f-1bcc-41a6-e138-bf8476ceba83"
   },
   "outputs": [
    {
     "name": "stdout",
     "output_type": "stream",
     "text": [
      "Batch 18212/53675\r"
     ]
    }
   ],
   "source": [
    "\n",
    "\n",
    "vec_img_list = []\n",
    "\n",
    "\n",
    "\n",
    "with torch.no_grad():\n",
    "    pretrained_net.eval()\n",
    "    for item, (inputs, labels, paths) in enumerate(dataloader):\n",
    "        print(\"Batch {}/{}\".format(item,len(dataloader)), end='\\r')\n",
    "        inputs = inputs.to(DEVICE)\n",
    "        \n",
    "        img_vec = pooling_output(inputs)\n",
    "        vec_img_list += [(img_vec.cpu(), paths[0])]\n",
    "        torch.cuda.empty_cache()\n"
   ]
  },
  {
   "cell_type": "code",
   "execution_count": null,
   "metadata": {
    "id": "3VT6sVC5Mc6F"
   },
   "outputs": [],
   "source": [
    "\n",
    "#query image\n",
    "query_image = 'test/test/0a7cebae9c84961ea176d6083101f03e.jpg'\n",
    "img = Image.open(query_image)\n",
    "\n",
    "#transform the query img to vector and reshape it\n",
    "input_tensor = transforms_(img)\n",
    "\n",
    "input_tensor = input_tensor.view(1, *input_tensor.shape)\n",
    "\n",
    "\n",
    "\n",
    "#obtain query_vector \n",
    "with torch.no_grad():\n",
    "  input_tensor  = input_tensor.cuda()\n",
    "  print(input_tensor.shape)\n",
    "  query_vector = pooling_output(input_tensor)\n",
    "  query_vector = query_vector.cpu()"
   ]
  },
  {
   "cell_type": "code",
   "execution_count": null,
   "metadata": {
    "id": "IDkC5jFqN7Ff"
   },
   "outputs": [],
   "source": [
    "#reshape the query\n",
    "query_vector = query_vector.reshape(1,25088) "
   ]
  },
  {
   "cell_type": "code",
   "execution_count": null,
   "metadata": {
    "colab": {
     "base_uri": "https://localhost:8080/"
    },
    "id": "tlzJQpJkORQT",
    "outputId": "c3a37799-77ef-423c-afb7-f7d5f5015797"
   },
   "outputs": [],
   "source": [
    "\n",
    "\n",
    "import time\n",
    "\n",
    "\n",
    "cos = nn.CosineSimilarity(dim=1, eps=1e-6)\n",
    "\n",
    "#find top N images in the data that match query image.\n",
    "N = 10\n",
    "cosine_scores_list = []\n",
    "cosine_scores = {}\n",
    "start = time.time()\n",
    "\n",
    "for i in range(len(vec_img_list)):\n",
    "  temp_cos_score = cos(query_vector, vec_img_list[i][0])\n",
    "  temp_cos_score = temp_cos_score.item()\n",
    "  \n",
    "  cosine_scores[temp_cos_score] = vec_img_list[i][1]\n",
    "  #store in a list to sort \n",
    "  cosine_scores_list.append(temp_cos_score)\n",
    "\n",
    "\n",
    "cosine_scores_list.sort(reverse= True)\n",
    "print(time.time() - start)\n",
    "\n",
    " "
   ]
  },
  {
   "cell_type": "code",
   "execution_count": null,
   "metadata": {
    "colab": {
     "base_uri": "https://localhost:8080/",
     "height": 296
    },
    "id": "_XfLix2nZSQt",
    "outputId": "ce642d60-2c6f-4cd3-9918-faf31f6ca6da"
   },
   "outputs": [],
   "source": [
    "#pls run all the cells below \n",
    "print(\"Top N most similar images are ...\")\n",
    "x0 = cosine_scores[cosine_scores_list[0]]\n",
    "Image.open(x0)\n",
    "\n"
   ]
  },
  {
   "cell_type": "code",
   "execution_count": null,
   "metadata": {
    "colab": {
     "base_uri": "https://localhost:8080/",
     "height": 279
    },
    "id": "BVyzqDkIaIc7",
    "outputId": "50fe3a7c-5df7-4982-c5c6-c71efce940bb"
   },
   "outputs": [],
   "source": [
    "x1 = cosine_scores[cosine_scores_list[1]]\n",
    "Image.open(x1)"
   ]
  },
  {
   "cell_type": "code",
   "execution_count": null,
   "metadata": {
    "colab": {
     "base_uri": "https://localhost:8080/",
     "height": 279
    },
    "id": "BJK90UfQaKGN",
    "outputId": "e2024a5c-dab4-406c-a823-781c412eb1cb"
   },
   "outputs": [],
   "source": [
    "x2 = cosine_scores[cosine_scores_list[2]]\n",
    "Image.open(x2)"
   ]
  },
  {
   "cell_type": "code",
   "execution_count": null,
   "metadata": {
    "colab": {
     "base_uri": "https://localhost:8080/",
     "height": 279
    },
    "id": "hToThPkTaNkn",
    "outputId": "d01d129b-c31d-4024-88a1-1d1f4063f60a"
   },
   "outputs": [],
   "source": [
    "x3 = cosine_scores[cosine_scores_list[3]]\n",
    "Image.open(x3)"
   ]
  },
  {
   "cell_type": "code",
   "execution_count": null,
   "metadata": {
    "colab": {
     "base_uri": "https://localhost:8080/",
     "height": 279
    },
    "id": "R0YVgZDnaSMU",
    "outputId": "6fac50c7-0511-4d8a-e3b2-a3914c3ba2dc"
   },
   "outputs": [],
   "source": [
    "x4 = cosine_scores[cosine_scores_list[4]]\n",
    "Image.open(x4)"
   ]
  },
  {
   "cell_type": "code",
   "execution_count": null,
   "metadata": {
    "colab": {
     "base_uri": "https://localhost:8080/",
     "height": 279
    },
    "id": "-28XTaLMaVuE",
    "outputId": "ff373b5b-0166-41a8-e810-57be37dfd807"
   },
   "outputs": [],
   "source": [
    "x5 = cosine_scores[cosine_scores_list[5]]\n",
    "Image.open(x5)"
   ]
  },
  {
   "cell_type": "code",
   "execution_count": null,
   "metadata": {
    "colab": {
     "base_uri": "https://localhost:8080/",
     "height": 279
    },
    "id": "Jei1O2gda2Qj",
    "outputId": "2a37b151-ebd0-42e4-ea4b-be2ea345aae0"
   },
   "outputs": [],
   "source": [
    "x6 = cosine_scores[cosine_scores_list[6]]\n",
    "Image.open(x6)"
   ]
  },
  {
   "cell_type": "code",
   "execution_count": null,
   "metadata": {
    "colab": {
     "base_uri": "https://localhost:8080/",
     "height": 279
    },
    "id": "zDxFdBeMa2q8",
    "outputId": "d95eedec-05b1-4b16-9b1a-2c5fd5b48635"
   },
   "outputs": [],
   "source": [
    "x7 = cosine_scores[cosine_scores_list[7]]\n",
    "Image.open(x7)"
   ]
  },
  {
   "cell_type": "code",
   "execution_count": null,
   "metadata": {
    "colab": {
     "base_uri": "https://localhost:8080/",
     "height": 279
    },
    "id": "M4pbkFPia4lt",
    "outputId": "367f7e60-868b-4b40-feae-d782a2b575d9"
   },
   "outputs": [],
   "source": [
    "x8 = cosine_scores[cosine_scores_list[8]]\n",
    "Image.open(x8)"
   ]
  },
  {
   "cell_type": "code",
   "execution_count": null,
   "metadata": {
    "colab": {
     "base_uri": "https://localhost:8080/",
     "height": 279
    },
    "id": "_Jai9mMka5I5",
    "outputId": "a086b5f5-ebb8-434a-94e6-3032d94901f0"
   },
   "outputs": [],
   "source": [
    "x9 = cosine_scores[cosine_scores_list[9]]\n",
    "Image.open(x9)"
   ]
  },
  {
   "cell_type": "code",
   "execution_count": null,
   "metadata": {
    "id": "74J0NLdAYcs7"
   },
   "outputs": [],
   "source": [
    "\n"
   ]
  }
 ],
 "metadata": {
  "colab": {
   "name": "1004358 image_search.ipynb",
   "provenance": []
  },
  "kernelspec": {
   "display_name": "Python 3",
   "language": "python",
   "name": "python3"
  },
  "language_info": {
   "codemirror_mode": {
    "name": "ipython",
    "version": 3
   },
   "file_extension": ".py",
   "mimetype": "text/x-python",
   "name": "python",
   "nbconvert_exporter": "python",
   "pygments_lexer": "ipython3",
   "version": "3.6.10"
  },
  "vscode": {
   "interpreter": {
    "hash": "a15e06952ab3777e70e930f57071b4410955c489bc1ceb6051b5189f38ae5bbb"
   }
  },
  "widgets": {
   "application/vnd.jupyter.widget-state+json": {
    "1c0b3b15872d4018b79e1691fd179e51": {
     "model_module": "@jupyter-widgets/controls",
     "model_module_version": "1.5.0",
     "model_name": "HTMLModel",
     "state": {
      "_dom_classes": [],
      "_model_module": "@jupyter-widgets/controls",
      "_model_module_version": "1.5.0",
      "_model_name": "HTMLModel",
      "_view_count": null,
      "_view_module": "@jupyter-widgets/controls",
      "_view_module_version": "1.5.0",
      "_view_name": "HTMLView",
      "description": "",
      "description_tooltip": null,
      "layout": "IPY_MODEL_4c7905385a1a474aa82a5d8f14b02aaa",
      "placeholder": "​",
      "style": "IPY_MODEL_9e8c0df236124384b96f39e83aa9525a",
      "value": " 97.8M/97.8M [00:00&lt;00:00, 151MB/s]"
     }
    },
    "3bd7e0fbae234af08b8347bedcbc5aeb": {
     "model_module": "@jupyter-widgets/base",
     "model_module_version": "1.2.0",
     "model_name": "LayoutModel",
     "state": {
      "_model_module": "@jupyter-widgets/base",
      "_model_module_version": "1.2.0",
      "_model_name": "LayoutModel",
      "_view_count": null,
      "_view_module": "@jupyter-widgets/base",
      "_view_module_version": "1.2.0",
      "_view_name": "LayoutView",
      "align_content": null,
      "align_items": null,
      "align_self": null,
      "border": null,
      "bottom": null,
      "display": null,
      "flex": null,
      "flex_flow": null,
      "grid_area": null,
      "grid_auto_columns": null,
      "grid_auto_flow": null,
      "grid_auto_rows": null,
      "grid_column": null,
      "grid_gap": null,
      "grid_row": null,
      "grid_template_areas": null,
      "grid_template_columns": null,
      "grid_template_rows": null,
      "height": null,
      "justify_content": null,
      "justify_items": null,
      "left": null,
      "margin": null,
      "max_height": null,
      "max_width": null,
      "min_height": null,
      "min_width": null,
      "object_fit": null,
      "object_position": null,
      "order": null,
      "overflow": null,
      "overflow_x": null,
      "overflow_y": null,
      "padding": null,
      "right": null,
      "top": null,
      "visibility": null,
      "width": null
     }
    },
    "4285e87d7d614f0c8ff4e7119d874259": {
     "model_module": "@jupyter-widgets/controls",
     "model_module_version": "1.5.0",
     "model_name": "HTMLModel",
     "state": {
      "_dom_classes": [],
      "_model_module": "@jupyter-widgets/controls",
      "_model_module_version": "1.5.0",
      "_model_name": "HTMLModel",
      "_view_count": null,
      "_view_module": "@jupyter-widgets/controls",
      "_view_module_version": "1.5.0",
      "_view_name": "HTMLView",
      "description": "",
      "description_tooltip": null,
      "layout": "IPY_MODEL_5b8843c801ff4439be7e38f8d0f3bc90",
      "placeholder": "​",
      "style": "IPY_MODEL_dbbbc44cb6304baf98701b966cfc7681",
      "value": "100%"
     }
    },
    "4a19ccef02fa422681202db0d6738958": {
     "model_module": "@jupyter-widgets/controls",
     "model_module_version": "1.5.0",
     "model_name": "ProgressStyleModel",
     "state": {
      "_model_module": "@jupyter-widgets/controls",
      "_model_module_version": "1.5.0",
      "_model_name": "ProgressStyleModel",
      "_view_count": null,
      "_view_module": "@jupyter-widgets/base",
      "_view_module_version": "1.2.0",
      "_view_name": "StyleView",
      "bar_color": null,
      "description_width": ""
     }
    },
    "4c7905385a1a474aa82a5d8f14b02aaa": {
     "model_module": "@jupyter-widgets/base",
     "model_module_version": "1.2.0",
     "model_name": "LayoutModel",
     "state": {
      "_model_module": "@jupyter-widgets/base",
      "_model_module_version": "1.2.0",
      "_model_name": "LayoutModel",
      "_view_count": null,
      "_view_module": "@jupyter-widgets/base",
      "_view_module_version": "1.2.0",
      "_view_name": "LayoutView",
      "align_content": null,
      "align_items": null,
      "align_self": null,
      "border": null,
      "bottom": null,
      "display": null,
      "flex": null,
      "flex_flow": null,
      "grid_area": null,
      "grid_auto_columns": null,
      "grid_auto_flow": null,
      "grid_auto_rows": null,
      "grid_column": null,
      "grid_gap": null,
      "grid_row": null,
      "grid_template_areas": null,
      "grid_template_columns": null,
      "grid_template_rows": null,
      "height": null,
      "justify_content": null,
      "justify_items": null,
      "left": null,
      "margin": null,
      "max_height": null,
      "max_width": null,
      "min_height": null,
      "min_width": null,
      "object_fit": null,
      "object_position": null,
      "order": null,
      "overflow": null,
      "overflow_x": null,
      "overflow_y": null,
      "padding": null,
      "right": null,
      "top": null,
      "visibility": null,
      "width": null
     }
    },
    "528473c612cd4ae49cce269a5a0eca94": {
     "model_module": "@jupyter-widgets/controls",
     "model_module_version": "1.5.0",
     "model_name": "FloatProgressModel",
     "state": {
      "_dom_classes": [],
      "_model_module": "@jupyter-widgets/controls",
      "_model_module_version": "1.5.0",
      "_model_name": "FloatProgressModel",
      "_view_count": null,
      "_view_module": "@jupyter-widgets/controls",
      "_view_module_version": "1.5.0",
      "_view_name": "ProgressView",
      "bar_style": "success",
      "description": "",
      "description_tooltip": null,
      "layout": "IPY_MODEL_3bd7e0fbae234af08b8347bedcbc5aeb",
      "max": 102540417,
      "min": 0,
      "orientation": "horizontal",
      "style": "IPY_MODEL_4a19ccef02fa422681202db0d6738958",
      "value": 102540417
     }
    },
    "5b8843c801ff4439be7e38f8d0f3bc90": {
     "model_module": "@jupyter-widgets/base",
     "model_module_version": "1.2.0",
     "model_name": "LayoutModel",
     "state": {
      "_model_module": "@jupyter-widgets/base",
      "_model_module_version": "1.2.0",
      "_model_name": "LayoutModel",
      "_view_count": null,
      "_view_module": "@jupyter-widgets/base",
      "_view_module_version": "1.2.0",
      "_view_name": "LayoutView",
      "align_content": null,
      "align_items": null,
      "align_self": null,
      "border": null,
      "bottom": null,
      "display": null,
      "flex": null,
      "flex_flow": null,
      "grid_area": null,
      "grid_auto_columns": null,
      "grid_auto_flow": null,
      "grid_auto_rows": null,
      "grid_column": null,
      "grid_gap": null,
      "grid_row": null,
      "grid_template_areas": null,
      "grid_template_columns": null,
      "grid_template_rows": null,
      "height": null,
      "justify_content": null,
      "justify_items": null,
      "left": null,
      "margin": null,
      "max_height": null,
      "max_width": null,
      "min_height": null,
      "min_width": null,
      "object_fit": null,
      "object_position": null,
      "order": null,
      "overflow": null,
      "overflow_x": null,
      "overflow_y": null,
      "padding": null,
      "right": null,
      "top": null,
      "visibility": null,
      "width": null
     }
    },
    "6a44c1c1047245a3a9ab0d6e8c659cf0": {
     "model_module": "@jupyter-widgets/base",
     "model_module_version": "1.2.0",
     "model_name": "LayoutModel",
     "state": {
      "_model_module": "@jupyter-widgets/base",
      "_model_module_version": "1.2.0",
      "_model_name": "LayoutModel",
      "_view_count": null,
      "_view_module": "@jupyter-widgets/base",
      "_view_module_version": "1.2.0",
      "_view_name": "LayoutView",
      "align_content": null,
      "align_items": null,
      "align_self": null,
      "border": null,
      "bottom": null,
      "display": null,
      "flex": null,
      "flex_flow": null,
      "grid_area": null,
      "grid_auto_columns": null,
      "grid_auto_flow": null,
      "grid_auto_rows": null,
      "grid_column": null,
      "grid_gap": null,
      "grid_row": null,
      "grid_template_areas": null,
      "grid_template_columns": null,
      "grid_template_rows": null,
      "height": null,
      "justify_content": null,
      "justify_items": null,
      "left": null,
      "margin": null,
      "max_height": null,
      "max_width": null,
      "min_height": null,
      "min_width": null,
      "object_fit": null,
      "object_position": null,
      "order": null,
      "overflow": null,
      "overflow_x": null,
      "overflow_y": null,
      "padding": null,
      "right": null,
      "top": null,
      "visibility": null,
      "width": null
     }
    },
    "9e8c0df236124384b96f39e83aa9525a": {
     "model_module": "@jupyter-widgets/controls",
     "model_module_version": "1.5.0",
     "model_name": "DescriptionStyleModel",
     "state": {
      "_model_module": "@jupyter-widgets/controls",
      "_model_module_version": "1.5.0",
      "_model_name": "DescriptionStyleModel",
      "_view_count": null,
      "_view_module": "@jupyter-widgets/base",
      "_view_module_version": "1.2.0",
      "_view_name": "StyleView",
      "description_width": ""
     }
    },
    "ce4dd86881034d83ae4b15bdf2d131d4": {
     "model_module": "@jupyter-widgets/controls",
     "model_module_version": "1.5.0",
     "model_name": "HBoxModel",
     "state": {
      "_dom_classes": [],
      "_model_module": "@jupyter-widgets/controls",
      "_model_module_version": "1.5.0",
      "_model_name": "HBoxModel",
      "_view_count": null,
      "_view_module": "@jupyter-widgets/controls",
      "_view_module_version": "1.5.0",
      "_view_name": "HBoxView",
      "box_style": "",
      "children": [
       "IPY_MODEL_4285e87d7d614f0c8ff4e7119d874259",
       "IPY_MODEL_528473c612cd4ae49cce269a5a0eca94",
       "IPY_MODEL_1c0b3b15872d4018b79e1691fd179e51"
      ],
      "layout": "IPY_MODEL_6a44c1c1047245a3a9ab0d6e8c659cf0"
     }
    },
    "dbbbc44cb6304baf98701b966cfc7681": {
     "model_module": "@jupyter-widgets/controls",
     "model_module_version": "1.5.0",
     "model_name": "DescriptionStyleModel",
     "state": {
      "_model_module": "@jupyter-widgets/controls",
      "_model_module_version": "1.5.0",
      "_model_name": "DescriptionStyleModel",
      "_view_count": null,
      "_view_module": "@jupyter-widgets/base",
      "_view_module_version": "1.2.0",
      "_view_name": "StyleView",
      "description_width": ""
     }
    }
   }
  }
 },
 "nbformat": 4,
 "nbformat_minor": 1
}
